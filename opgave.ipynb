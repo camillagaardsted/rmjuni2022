{
 "cells": [
  {
   "cell_type": "code",
   "execution_count": null,
   "metadata": {},
   "outputs": [],
   "source": []
  },
  {
   "cell_type": "markdown",
   "metadata": {},
   "source": [
    "## Opgaver python kursus del I Region Midt"
   ]
  },
  {
   "cell_type": "markdown",
   "metadata": {},
   "source": [
    "Anvend Spyder som IDE (integrated development environment).\n",
    "\n",
    "# Opgave 1\n",
    "\n",
    "Opret variable med gode navne og tilskriv en værdi for \n",
    "1) Dit skonr\n",
    "2) Din sommerferiedestination\n",
    "3) Om du nogensinde har været på Bornholm\n",
    "4) Diesel/benzinprisen sidst du tankede\n",
    "\n",
    "\n"
   ]
  },
  {
   "cell_type": "markdown",
   "metadata": {},
   "source": [
    "5) Marker dine kodelinjer og udfør dem i Spyder\n",
    "6) Tjek hvilke typer dine variable får i vinduet til højre i Spyder\n",
    "7) Udskriv i konsollen en meningsfuld sætning, hvor du fletter oplysninger fra alle 4 variable ind i tekst a la \"Jeg bruger skostørrelse:39 og har været på Bornholm...\" etc\n",
    "8) Udvid programmet så de 4 værdier indlæses fra konsollen. Sørg for at de får de rette typer som de havde før dvs int, str, bool og float"
   ]
  },
  {
   "cell_type": "markdown",
   "metadata": {},
   "source": [
    "# Opgave 2\n",
    "\n",
    "De 4 helt essentielle collections i Python er list, tuple, dictionary og set.\n",
    "\n",
    "1) Opret en liste som indeholder de ugenumre hvor du holder sommerferie\n",
    "2) Opret en liste med navne på de lande du har besøgt\n",
    "3) Tilføj din drømmedestination til listen fra 2'eren. Du må ikke have været der tidligere.\n",
    "4) Udvid din ferie liste fra 1'eren, så du holder orlov fra uge 34 til uge 39.\n",
    "5) Fjern drømmedestinationen fra listen i 3'eren\n",
    "6) Fjern det andet element på listen fra 2'eren ud fra index - dvs element 1 "
   ]
  },
  {
   "cell_type": "code",
   "execution_count": null,
   "metadata": {},
   "outputs": [],
   "source": []
  },
  {
   "cell_type": "markdown",
   "metadata": {},
   "source": []
  }
 ],
 "metadata": {
  "language_info": {
   "name": "python"
  },
  "orig_nbformat": 4
 },
 "nbformat": 4,
 "nbformat_minor": 2
}
